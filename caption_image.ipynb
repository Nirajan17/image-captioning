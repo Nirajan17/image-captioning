{
 "cells": [
  {
   "cell_type": "code",
   "execution_count": 42,
   "id": "1f27fbdb",
   "metadata": {},
   "outputs": [],
   "source": [
    "import os\n",
    "import numpy as np\n",
    "import pickle\n",
    "from tqdm.notebook import tqdm\n",
    "\n",
    "from tensorflow.keras.applications.vgg16 import VGG16, preprocess_input\n",
    "from tensorflow.keras.preprocessing.image import load_img, img_to_array\n",
    "from tensorflow.keras.preprocessing.text import Tokenizer\n",
    "from tensorflow.keras.preprocessing.sequence import pad_sequences\n",
    "from tensorflow.keras.models import Model\n",
    "from tensorflow.keras.utils import to_categorical, plot_model\n",
    "from tensorflow.keras.layers import Input, Dense, LSTM, Embedding, Dropout, add"
   ]
  },
  {
   "cell_type": "code",
   "execution_count": 8,
   "id": "84da7584",
   "metadata": {},
   "outputs": [],
   "source": [
    "BASE_DIR = '/Users/nirajanpaudel17/Documents/Python/image_captioning/archive'\n",
    "WORKING_DIR = '/Users/nirajanpaudel17/Documents/Python/image_captioning'"
   ]
  },
  {
   "cell_type": "code",
   "execution_count": 4,
   "id": "e5767c5b",
   "metadata": {},
   "outputs": [
    {
     "name": "stdout",
     "output_type": "stream",
     "text": [
      "Model: \"model\"\n",
      "_________________________________________________________________\n",
      " Layer (type)                Output Shape              Param #   \n",
      "=================================================================\n",
      " input_2 (InputLayer)        [(None, 224, 224, 3)]     0         \n",
      "                                                                 \n",
      " block1_conv1 (Conv2D)       (None, 224, 224, 64)      1792      \n",
      "                                                                 \n",
      " block1_conv2 (Conv2D)       (None, 224, 224, 64)      36928     \n",
      "                                                                 \n",
      " block1_pool (MaxPooling2D)  (None, 112, 112, 64)      0         \n",
      "                                                                 \n",
      " block2_conv1 (Conv2D)       (None, 112, 112, 128)     73856     \n",
      "                                                                 \n",
      " block2_conv2 (Conv2D)       (None, 112, 112, 128)     147584    \n",
      "                                                                 \n",
      " block2_pool (MaxPooling2D)  (None, 56, 56, 128)       0         \n",
      "                                                                 \n",
      " block3_conv1 (Conv2D)       (None, 56, 56, 256)       295168    \n",
      "                                                                 \n",
      " block3_conv2 (Conv2D)       (None, 56, 56, 256)       590080    \n",
      "                                                                 \n",
      " block3_conv3 (Conv2D)       (None, 56, 56, 256)       590080    \n",
      "                                                                 \n",
      " block3_pool (MaxPooling2D)  (None, 28, 28, 256)       0         \n",
      "                                                                 \n",
      " block4_conv1 (Conv2D)       (None, 28, 28, 512)       1180160   \n",
      "                                                                 \n",
      " block4_conv2 (Conv2D)       (None, 28, 28, 512)       2359808   \n",
      "                                                                 \n",
      " block4_conv3 (Conv2D)       (None, 28, 28, 512)       2359808   \n",
      "                                                                 \n",
      " block4_pool (MaxPooling2D)  (None, 14, 14, 512)       0         \n",
      "                                                                 \n",
      " block5_conv1 (Conv2D)       (None, 14, 14, 512)       2359808   \n",
      "                                                                 \n",
      " block5_conv2 (Conv2D)       (None, 14, 14, 512)       2359808   \n",
      "                                                                 \n",
      " block5_conv3 (Conv2D)       (None, 14, 14, 512)       2359808   \n",
      "                                                                 \n",
      " block5_pool (MaxPooling2D)  (None, 7, 7, 512)         0         \n",
      "                                                                 \n",
      " flatten (Flatten)           (None, 25088)             0         \n",
      "                                                                 \n",
      " fc1 (Dense)                 (None, 4096)              102764544 \n",
      "                                                                 \n",
      " fc2 (Dense)                 (None, 4096)              16781312  \n",
      "                                                                 \n",
      "=================================================================\n",
      "Total params: 134260544 (512.16 MB)\n",
      "Trainable params: 134260544 (512.16 MB)\n",
      "Non-trainable params: 0 (0.00 Byte)\n",
      "_________________________________________________________________\n",
      "None\n"
     ]
    }
   ],
   "source": [
    "model = VGG16()\n",
    "\n",
    "model = Model(inputs=model.inputs, outputs=model.layers[-2].output)\n",
    "# print(model.summary())"
   ]
  },
  {
   "cell_type": "markdown",
   "id": "2b01a0af",
   "metadata": {},
   "source": [
    "### feature extraction form Images"
   ]
  },
  {
   "cell_type": "code",
   "execution_count": 5,
   "id": "fd77d221",
   "metadata": {},
   "outputs": [
    {
     "data": {
      "application/vnd.jupyter.widget-view+json": {
       "model_id": "3bb2d3eb80d34b629ec79027ef328ebc",
       "version_major": 2,
       "version_minor": 0
      },
      "text/plain": [
       "  0%|          | 0/8091 [00:00<?, ?it/s]"
      ]
     },
     "metadata": {},
     "output_type": "display_data"
    },
    {
     "name": "stderr",
     "output_type": "stream",
     "text": [
      "2023-11-22 20:47:38.287494: I tensorflow/core/grappler/optimizers/custom_graph_optimizer_registry.cc:114] Plugin optimizer for device_type GPU is enabled.\n"
     ]
    }
   ],
   "source": [
    "features = {}\n",
    "directory = os.path.join(BASE_DIR, 'Images')\n",
    "\n",
    "for image_name in tqdm(os.listdir(directory)):  # tqdm is only used for the graphics to displayed while loading images\n",
    "    image_path = directory + '/' + image_name\n",
    "    image = load_img(image_path, target_size=(224,224))\n",
    "    image = img_to_array(image)\n",
    "    image = image.reshape((1,image.shape[0],image.shape[1],image.shape[2]))\n",
    "    image = preprocess_input(image)\n",
    "    feature = model.predict(image, verbose=0)\n",
    "    image_id = image_name.split('.')[0]\n",
    "    features[image_id] = feature"
   ]
  },
  {
   "cell_type": "markdown",
   "id": "21f852a2",
   "metadata": {},
   "source": [
    "extracting these features repeatedly is a time consuming process. So it's better to store them in a pickle file."
   ]
  },
  {
   "cell_type": "code",
   "execution_count": 6,
   "id": "96f62bab",
   "metadata": {},
   "outputs": [],
   "source": [
    "pickle.dump(features, open(os.path.join(WORKING_DIR, 'features.pkl'), 'wb'))"
   ]
  },
  {
   "cell_type": "markdown",
   "id": "7f41e418",
   "metadata": {},
   "source": [
    "To load the stored features::\n",
    "        \n",
    "        with open(os.path.join(WORKING_DIR, 'features.pkl'), 'rb') as f:\n",
    "            features = pickle.load(f)"
   ]
  },
  {
   "cell_type": "markdown",
   "id": "54874587",
   "metadata": {},
   "source": [
    "### Load the caption data"
   ]
  },
  {
   "cell_type": "code",
   "execution_count": 9,
   "id": "c63131a2",
   "metadata": {},
   "outputs": [],
   "source": [
    "with open(os.path.join(BASE_DIR, 'captions.txt'), 'r') as f:\n",
    "    next(f)  # to avoid the first line of the captions.txt file\n",
    "    captions_doc = f.read()"
   ]
  },
  {
   "cell_type": "markdown",
   "id": "85f2b08c",
   "metadata": {},
   "source": [
    "#### Creating mapping between images and the captions"
   ]
  },
  {
   "cell_type": "code",
   "execution_count": 13,
   "id": "6b753750",
   "metadata": {},
   "outputs": [
    {
     "data": {
      "application/vnd.jupyter.widget-view+json": {
       "model_id": "8e1fa17521c649079051b2ef2b8598e4",
       "version_major": 2,
       "version_minor": 0
      },
      "text/plain": [
       "  0%|          | 0/40456 [00:00<?, ?it/s]"
      ]
     },
     "metadata": {},
     "output_type": "display_data"
    }
   ],
   "source": [
    "mapping = {}\n",
    "\n",
    "for line in tqdm(captions_doc.split('\\n')):\n",
    "    tokens = line.split(',')\n",
    "    if len(line)<2:\n",
    "        continue\n",
    "    \n",
    "    image_id, caption = tokens[0], tokens[1:]\n",
    "    image_id = image_id.split('.')[0]\n",
    "    caption = ' '.join(caption)\n",
    "    if image_id not in mapping:\n",
    "        mapping[image_id] = []\n",
    "    mapping[image_id].append(caption)"
   ]
  },
  {
   "cell_type": "code",
   "execution_count": 14,
   "id": "5a291f4d",
   "metadata": {},
   "outputs": [
    {
     "data": {
      "text/plain": [
       "8091"
      ]
     },
     "execution_count": 14,
     "metadata": {},
     "output_type": "execute_result"
    }
   ],
   "source": [
    "len(mapping)"
   ]
  },
  {
   "cell_type": "markdown",
   "id": "56c3947e",
   "metadata": {},
   "source": [
    "##### preprocess the caption "
   ]
  },
  {
   "cell_type": "code",
   "execution_count": 16,
   "id": "ed0fba62",
   "metadata": {},
   "outputs": [],
   "source": [
    "def clean(mapping):\n",
    "    for key, captions in mapping.items():\n",
    "        for i in range(len(captions)):\n",
    "            caption = captions[i]\n",
    "            caption = caption.lower()\n",
    "            # remove the special characters, digits...\n",
    "            caption = caption.replace('[^A-Za-z]', '')\n",
    "            # remove additional spaces\n",
    "            caption = caption.replace('\\s+', ' ')\n",
    "            caption = '<start>' + ' '.join([word for word in caption.split() if len(word)>1]) + '<end>'\n",
    "            captions[i] = caption"
   ]
  },
  {
   "cell_type": "code",
   "execution_count": 19,
   "id": "68fdc70e",
   "metadata": {},
   "outputs": [
    {
     "data": {
      "text/plain": [
       "['A black dog and a spotted dog are fighting',\n",
       " 'A black dog and a tri-colored dog playing with each other on the road .',\n",
       " 'A black dog and a white dog with brown spots are staring at each other in the street .',\n",
       " 'Two dogs of different breeds looking at each other on the road .',\n",
       " 'Two dogs on pavement moving toward each other .']"
      ]
     },
     "execution_count": 19,
     "metadata": {},
     "output_type": "execute_result"
    }
   ],
   "source": [
    "mapping['1001773457_577c3a7d70']"
   ]
  },
  {
   "cell_type": "code",
   "execution_count": 20,
   "id": "c4d7ed21",
   "metadata": {},
   "outputs": [],
   "source": [
    "clean(mapping)"
   ]
  },
  {
   "cell_type": "code",
   "execution_count": 21,
   "id": "9ee333cd",
   "metadata": {},
   "outputs": [
    {
     "data": {
      "text/plain": [
       "['<start>black dog and spotted dog are fighting<end>',\n",
       " '<start>black dog and tri-colored dog playing with each other on the road<end>',\n",
       " '<start>black dog and white dog with brown spots are staring at each other in the street<end>',\n",
       " '<start>two dogs of different breeds looking at each other on the road<end>',\n",
       " '<start>two dogs on pavement moving toward each other<end>']"
      ]
     },
     "execution_count": 21,
     "metadata": {},
     "output_type": "execute_result"
    }
   ],
   "source": [
    "mapping['1001773457_577c3a7d70']"
   ]
  },
  {
   "cell_type": "markdown",
   "id": "d7e87e82",
   "metadata": {},
   "source": [
    "Each image or key in this case has multiple captions. Following code list all the captions in a single dict."
   ]
  },
  {
   "cell_type": "code",
   "execution_count": 22,
   "id": "d003482f",
   "metadata": {},
   "outputs": [],
   "source": [
    "all_captions = []\n",
    "for key in mapping:\n",
    "    for caption in mapping[key]:\n",
    "        all_captions.append(caption)"
   ]
  },
  {
   "cell_type": "code",
   "execution_count": 23,
   "id": "ed394412",
   "metadata": {},
   "outputs": [
    {
     "data": {
      "text/plain": [
       "40455"
      ]
     },
     "execution_count": 23,
     "metadata": {},
     "output_type": "execute_result"
    }
   ],
   "source": [
    "len(all_captions)"
   ]
  },
  {
   "cell_type": "code",
   "execution_count": 31,
   "id": "138de46c",
   "metadata": {},
   "outputs": [
    {
     "data": {
      "text/plain": [
       "['<start>child in pink dress is climbing up set of stairs in an entry way<end>',\n",
       " '<start>girl going into wooden building<end>']"
      ]
     },
     "execution_count": 31,
     "metadata": {},
     "output_type": "execute_result"
    }
   ],
   "source": [
    "all_captions[:2]"
   ]
  },
  {
   "cell_type": "markdown",
   "id": "d026e374",
   "metadata": {},
   "source": [
    "tokenize the corpous \"all_captions\""
   ]
  },
  {
   "cell_type": "code",
   "execution_count": 26,
   "id": "a6945a92",
   "metadata": {},
   "outputs": [],
   "source": [
    "tokenizer = Tokenizer()\n",
    "tokenizer.fit_on_texts(all_captions)\n",
    "vocab_size = len(tokenizer.word_index) + 1"
   ]
  },
  {
   "cell_type": "code",
   "execution_count": 27,
   "id": "402d5ca2",
   "metadata": {},
   "outputs": [
    {
     "data": {
      "text/plain": [
       "8483"
      ]
     },
     "execution_count": 27,
     "metadata": {},
     "output_type": "execute_result"
    }
   ],
   "source": [
    "vocab_size"
   ]
  },
  {
   "cell_type": "markdown",
   "id": "d3b7e84c",
   "metadata": {},
   "source": [
    "let's calculate the maximum length of the caption which will be required for padding the sequences later"
   ]
  },
  {
   "cell_type": "code",
   "execution_count": 33,
   "id": "26c68420",
   "metadata": {},
   "outputs": [],
   "source": [
    "max_length = max(len(caption.split()) for caption in all_captions)"
   ]
  },
  {
   "cell_type": "code",
   "execution_count": 34,
   "id": "b00a6d1b",
   "metadata": {},
   "outputs": [
    {
     "data": {
      "text/plain": [
       "33"
      ]
     },
     "execution_count": 34,
     "metadata": {},
     "output_type": "execute_result"
    }
   ],
   "source": [
    "max_length"
   ]
  },
  {
   "cell_type": "markdown",
   "id": "ea5af90f",
   "metadata": {},
   "source": [
    "Train Test Split"
   ]
  },
  {
   "cell_type": "code",
   "execution_count": 37,
   "id": "87be9701",
   "metadata": {},
   "outputs": [],
   "source": [
    "image_ids = list(mapping.keys())\n",
    "split = int(len(image_ids) * 0.9)\n",
    "train = image_ids[:split]\n",
    "test = image_ids[split:]"
   ]
  },
  {
   "cell_type": "markdown",
   "id": "2a57fe23",
   "metadata": {},
   "source": [
    "Now, we will use the datagenerator to fetch the images and captions in batch"
   ]
  },
  {
   "cell_type": "code",
   "execution_count": 55,
   "id": "a87da0ff",
   "metadata": {},
   "outputs": [],
   "source": [
    "# def data_generator(data_keys, mapping, features, tokenizer, max_length, vocab_size, batch_size):\n",
    "#     X1, X2, y = list(), list(), list()\n",
    "#     n=0\n",
    "#     while 1:\n",
    "#         for key in data_keys:\n",
    "#             n+=1\n",
    "#             captions = mapping[key]\n",
    "#             for caption in captions:\n",
    "#                 seq = tokenizer.texts_to_sequences([caption])[0]\n",
    "#                 for i in range(1, len(seq)):\n",
    "#                     in_seq, out_seq = seq[:i], seq[i]\n",
    "#                     in_seq = pad_sequences([in_seq], maxlen=max_length)[0]\n",
    "#                     out_seq = to_categorical([out_seq], num_classes=vocab_size)[0]\n",
    "                    \n",
    "#                     X1.append(features[key][0])\n",
    "#                     X2.append(in_seq)\n",
    "#                     y.append(out_seq)\n",
    "#             if n == batch_size:\n",
    "#                 X1, X2, y = np.array(X1), np.array(X2), np.array(y)\n",
    "#                 yield [X1,X2],y\n",
    "#                 X1, X2, y = list(), list(), list()\n",
    "#                 n=0\n",
    "\n",
    "\n",
    "\n",
    "\n",
    "def data_generator(data_keys, mapping, features, tokenizer, max_length, vocab_size, batch_size):\n",
    "    n = 0\n",
    "    while True:\n",
    "        X1, X2, y = [], [], []\n",
    "        for key in data_keys:\n",
    "            n += 1\n",
    "            captions = mapping[key]\n",
    "            for caption in captions:\n",
    "                seq = tokenizer.texts_to_sequences([caption])[0]\n",
    "                for i in range(1, len(seq)):\n",
    "                    in_seq, out_seq = seq[:i], seq[i]\n",
    "                    in_seq = pad_sequences([in_seq], maxlen=max_length)[0]\n",
    "                    out_seq = to_categorical([out_seq], num_classes=vocab_size)[0]\n",
    "                    \n",
    "                    X1.append(features[key][0])\n",
    "                    X2.append(in_seq)\n",
    "                    y.append(out_seq)\n",
    "                    \n",
    "                    if n == batch_size:\n",
    "                        yield [np.array(X1), np.array(X2)], np.array(y)\n",
    "                        X1, X2, y = [], [], []\n",
    "                        n = 0\n"
   ]
  },
  {
   "cell_type": "markdown",
   "id": "0883612c",
   "metadata": {},
   "source": [
    "Model Creation"
   ]
  },
  {
   "cell_type": "code",
   "execution_count": 56,
   "id": "959cef97",
   "metadata": {},
   "outputs": [],
   "source": [
    "# encoder model\n",
    "inputs1 = Input(shape=(4096,))\n",
    "fe1 = Dropout(0.4)(inputs1)\n",
    "fe2 = Dense(256,activation='relu')(fe1)\n",
    "\n",
    "# sequence feature layer\n",
    "inputs2 = Input(shape=(max_length,))\n",
    "se1 = Embedding(vocab_size, 256, mask_zero=True)(inputs2)\n",
    "se2 = Dropout(0.4)(se1)\n",
    "se3 = LSTM(256)(se2)\n",
    "\n",
    "\n",
    "# decoder model\n",
    "decoder1 = add([fe2,se3])\n",
    "decoder2 = Dense(256, activation='relu')(decoder1)\n",
    "outputs = Dense(vocab_size, activation='relu')(decoder2)     # chatgpt suggest the softmax activation \n",
    "\n",
    "model = Model(inputs=[inputs1, inputs2], outputs=outputs)\n",
    "model.compile(loss='categorical_crossentropy', optimizer='adam')\n",
    "\n",
    "# plot_model(model, show_shapes=True)"
   ]
  },
  {
   "cell_type": "code",
   "execution_count": 44,
   "id": "2fe23536",
   "metadata": {},
   "outputs": [
    {
     "name": "stdout",
     "output_type": "stream",
     "text": [
      "Collecting pydot\n",
      "  Downloading pydot-1.4.2-py2.py3-none-any.whl (21 kB)\n",
      "Requirement already satisfied: pyparsing>=2.1.4 in /Users/nirajanpaudel17/anaconda3/envs/tnfenv/lib/python3.10/site-packages (from pydot) (3.0.9)\n",
      "Installing collected packages: pydot\n",
      "Successfully installed pydot-1.4.2\n",
      "\n",
      "\u001b[1m[\u001b[0m\u001b[34;49mnotice\u001b[0m\u001b[1;39;49m]\u001b[0m\u001b[39;49m A new release of pip is available: \u001b[0m\u001b[31;49m23.1.2\u001b[0m\u001b[39;49m -> \u001b[0m\u001b[32;49m23.3.1\u001b[0m\n",
      "\u001b[1m[\u001b[0m\u001b[34;49mnotice\u001b[0m\u001b[1;39;49m]\u001b[0m\u001b[39;49m To update, run: \u001b[0m\u001b[32;49mpip install --upgrade pip\u001b[0m\n"
     ]
    }
   ],
   "source": [
    "!pip install pydot"
   ]
  },
  {
   "cell_type": "code",
   "execution_count": 46,
   "id": "4fe0312c",
   "metadata": {},
   "outputs": [
    {
     "name": "stdout",
     "output_type": "stream",
     "text": [
      "Model: \"model_2\"\n",
      "__________________________________________________________________________________________________\n",
      " Layer (type)                Output Shape                 Param #   Connected to                  \n",
      "==================================================================================================\n",
      " input_8 (InputLayer)        [(None, 33)]                 0         []                            \n",
      "                                                                                                  \n",
      " input_7 (InputLayer)        [(None, 4096)]               0         []                            \n",
      "                                                                                                  \n",
      " embedding_2 (Embedding)     (None, 33, 256)              2171648   ['input_8[0][0]']             \n",
      "                                                                                                  \n",
      " dropout_4 (Dropout)         (None, 4096)                 0         ['input_7[0][0]']             \n",
      "                                                                                                  \n",
      " dropout_5 (Dropout)         (None, 33, 256)              0         ['embedding_2[0][0]']         \n",
      "                                                                                                  \n",
      " dense_4 (Dense)             (None, 256)                  1048832   ['dropout_4[0][0]']           \n",
      "                                                                                                  \n",
      " lstm_2 (LSTM)               (None, 256)                  525312    ['dropout_5[0][0]']           \n",
      "                                                                                                  \n",
      " add_1 (Add)                 (None, 256)                  0         ['dense_4[0][0]',             \n",
      "                                                                     'lstm_2[0][0]']              \n",
      "                                                                                                  \n",
      " dense_5 (Dense)             (None, 256)                  65792     ['add_1[0][0]']               \n",
      "                                                                                                  \n",
      " dense_6 (Dense)             (None, 8483)                 2180131   ['dense_5[0][0]']             \n",
      "                                                                                                  \n",
      "==================================================================================================\n",
      "Total params: 5991715 (22.86 MB)\n",
      "Trainable params: 5991715 (22.86 MB)\n",
      "Non-trainable params: 0 (0.00 Byte)\n",
      "__________________________________________________________________________________________________\n"
     ]
    }
   ],
   "source": [
    "model.summary()"
   ]
  },
  {
   "cell_type": "markdown",
   "id": "bca23330",
   "metadata": {},
   "source": [
    "Train the model"
   ]
  },
  {
   "cell_type": "code",
   "execution_count": 58,
   "id": "2524103c",
   "metadata": {},
   "outputs": [
    {
     "name": "stdout",
     "output_type": "stream",
     "text": [
      "113/113 [==============================] - 707s 6s/step - loss: 8.0416\n",
      "113/113 [==============================] - 717s 6s/step - loss: 8.0258\n",
      "113/113 [==============================] - 653s 6s/step - loss: 7.9718\n",
      "113/113 [==============================] - 633s 6s/step - loss: 7.8914\n",
      "113/113 [==============================] - 622s 6s/step - loss: 7.8427\n",
      "113/113 [==============================] - 638s 6s/step - loss: 7.8578\n",
      "113/113 [==============================] - 651s 6s/step - loss: 7.7953\n",
      "113/113 [==============================] - 654s 6s/step - loss: 7.7686\n",
      "113/113 [==============================] - 679s 6s/step - loss: 7.6882\n",
      "113/113 [==============================] - 678s 6s/step - loss: 7.7166\n",
      "113/113 [==============================] - 703s 6s/step - loss: 7.6788\n",
      "113/113 [==============================] - 691s 6s/step - loss: 7.5920\n",
      "113/113 [==============================] - 718s 6s/step - loss: 7.5364\n",
      "113/113 [==============================] - 676s 6s/step - loss: 4.1607\n",
      "113/113 [==============================] - 584s 5s/step - loss: 1.1921e-07\n"
     ]
    }
   ],
   "source": [
    "epochs = 15\n",
    "batch_size = 64\n",
    "steps = len(train) // batch_size\n",
    "\n",
    "for i in range(epochs):\n",
    "    generator = data_generator(train, mapping, features, tokenizer, max_length, vocab_size, batch_size)\n",
    "    model.fit(generator, epochs=1, steps_per_epoch=steps, verbose=1)"
   ]
  },
  {
   "cell_type": "code",
   "execution_count": 59,
   "id": "86fa86e6",
   "metadata": {},
   "outputs": [
    {
     "name": "stderr",
     "output_type": "stream",
     "text": [
      "/Users/nirajanpaudel17/anaconda3/envs/tnfenv/lib/python3.10/site-packages/keras/src/engine/training.py:3000: UserWarning: You are saving your model as an HDF5 file via `model.save()`. This file format is considered legacy. We recommend using instead the native Keras format, e.g. `model.save('my_model.keras')`.\n",
      "  saving_api.save_model(\n"
     ]
    }
   ],
   "source": [
    "model.save(WORKING_DIR + '/first_model.h5')"
   ]
  },
  {
   "cell_type": "code",
   "execution_count": null,
   "id": "5905b7aa",
   "metadata": {},
   "outputs": [],
   "source": []
  },
  {
   "cell_type": "code",
   "execution_count": null,
   "id": "b6da1d2b",
   "metadata": {},
   "outputs": [],
   "source": []
  },
  {
   "cell_type": "code",
   "execution_count": null,
   "id": "6025430a",
   "metadata": {},
   "outputs": [],
   "source": []
  },
  {
   "cell_type": "code",
   "execution_count": null,
   "id": "da412cd9",
   "metadata": {},
   "outputs": [],
   "source": []
  },
  {
   "cell_type": "code",
   "execution_count": null,
   "id": "41b96362",
   "metadata": {},
   "outputs": [],
   "source": []
  },
  {
   "cell_type": "code",
   "execution_count": null,
   "id": "8b38bf2e",
   "metadata": {},
   "outputs": [],
   "source": []
  },
  {
   "cell_type": "code",
   "execution_count": null,
   "id": "d0f96b61",
   "metadata": {},
   "outputs": [],
   "source": []
  },
  {
   "cell_type": "code",
   "execution_count": null,
   "id": "58620d37",
   "metadata": {},
   "outputs": [],
   "source": []
  },
  {
   "cell_type": "code",
   "execution_count": null,
   "id": "4fbd5ea0",
   "metadata": {},
   "outputs": [],
   "source": []
  },
  {
   "cell_type": "code",
   "execution_count": null,
   "id": "b089fb60",
   "metadata": {},
   "outputs": [],
   "source": []
  },
  {
   "cell_type": "code",
   "execution_count": null,
   "id": "86666e44",
   "metadata": {},
   "outputs": [],
   "source": []
  },
  {
   "cell_type": "code",
   "execution_count": null,
   "id": "c6e085a3",
   "metadata": {},
   "outputs": [],
   "source": []
  },
  {
   "cell_type": "code",
   "execution_count": null,
   "id": "ac0641be",
   "metadata": {},
   "outputs": [],
   "source": []
  },
  {
   "cell_type": "code",
   "execution_count": null,
   "id": "f7d9273c",
   "metadata": {},
   "outputs": [],
   "source": []
  },
  {
   "cell_type": "code",
   "execution_count": null,
   "id": "dd2ffb9d",
   "metadata": {},
   "outputs": [],
   "source": [
    "# BASE_DIR = '/Users/nirajanpaudel17/Documents/Python/image_captioning/archive'\n",
    "# WORKING_DIR = '/Users/nirajanpaudel17/Documents/Python/image_captioning'\n",
    "\n",
    "# model = VGG16()\n",
    "\n",
    "# model = Model(inputs=model.inputs, outputs=model.layers[-2].output)\n",
    "\n",
    "# features = {}\n",
    "# directory = os.path.join(BASE_DIR, 'Images')\n",
    "\n",
    "# for image_name in tqdm(os.listdir(directory)):  # tqdm is only used for the graphics to displayed while loading images\n",
    "#     image_path = directory + '/' + image_name\n",
    "#     image = load_img(image_path, target_size=(224,224))\n",
    "#     image = img_to_array(image)\n",
    "#     image = image.reshape((1,image.shape[0],image.shape[1],image.shape[2]))\n",
    "#     image = preprocess_input(image)\n",
    "#     feature = model.predict(image, verbose=0)\n",
    "#     image_id = image_name.split('.')[0]\n",
    "#     features[image_id] = feature\n",
    "\n",
    "# with open(os.path.join(BASE_DIR, 'captions.txt'), 'r') as f:\n",
    "#     next(f)  # to avoid the first line of the captions.txt file\n",
    "#     captions_doc = f.read()\n",
    "\n",
    "# mapping = {}\n",
    "\n",
    "# for line in tqdm(captions_doc.split('\\n')):\n",
    "#     tokens = line.split(',')\n",
    "#     if len(line)<2:\n",
    "#         continue\n",
    "    \n",
    "#     image_id, caption = tokens[0], tokens[1:]\n",
    "#     image_id = image_id.split('.')[0]\n",
    "#     caption = ' '.join(caption)\n",
    "#     if image_id not in mapping:\n",
    "#         mapping[image_id] = []\n",
    "#     mapping[image_id].append(caption)\n",
    "    \n",
    "    \n",
    "# def clean(mapping):\n",
    "#     for key, captions in mapping.items():\n",
    "#         for i in range(len(captions)):\n",
    "#             caption = captions[i]\n",
    "#             caption = caption.lower()\n",
    "#             # remove the special characters, digits...\n",
    "#             caption = caption.replace('[^A-Za-z]', '')\n",
    "#             # remove additional spaces\n",
    "#             caption = caption.replace('\\s+', ' ')\n",
    "#             caption = '<start>' + ' '.join([word for word in caption.split() if len(word)>1]) + '<end>'\n",
    "#             captions[i] = caption\n",
    "            \n",
    "# clean(mapping)\n",
    "\n",
    "# all_captions = []\n",
    "# for key in mapping:\n",
    "#     for caption in mapping[key]:\n",
    "#         all_captions.append(caption)\n",
    "        \n",
    "# tokenizer = Tokenizer()\n",
    "# tokenizer.fit_on_texts(all_captions)\n",
    "# vocab_size = len(tokenizer.word_index) + 1\n",
    "\n",
    "# max_length = max(len(caption.split()) for caption in all_captions)\n",
    "\n",
    "# image_ids = list(mapping.keys())\n",
    "# split = int(len(image_ids) * 0.9)\n",
    "# train = image_ids[:split]\n",
    "# test = image_ids[split:]\n",
    "\n",
    "# def data_generator(data_keys, mapping, features, tokenizer, max_length, vocab_size, batch_size):\n",
    "#     X1, X2, y = list(), list(), list()\n",
    "#     n=0\n",
    "#     while 1:\n",
    "#         for key in data_keys:\n",
    "#             n+=1\n",
    "#             captions = mapping[key]\n",
    "#             for caption in captions:\n",
    "#                 seq = tokenizer.texts_to_sequences([caption])[0]\n",
    "#                 for i in range(1, len(seq)):\n",
    "#                     in_seq, out_seq = seq[:i], seq[i]\n",
    "#                     in_seq = pad_sequences([in_seq], maxlen=max_length)[0]\n",
    "#                     out_seq = to_categorical([out_seq], num_classes=vocab_size)[0]\n",
    "                    \n",
    "#                     X1.append(features[key][0])\n",
    "#                     X2.append(in_seq)\n",
    "#                     y.append(out_seq)\n",
    "#             if n == batch_size:\n",
    "#                 X1, X2, y = np.array(X1), np.array(X2), np.array(y)\n",
    "#                 yield [X1,X2],y\n",
    "#                 X1, X2, y = list(), list(), list()\n",
    "#                 n=0\n",
    "                \n",
    "\n",
    "# # encoder model\n",
    "# inputs1 = Input(shape=(4096,))\n",
    "# fe1 = Dropout(0.4)(inputs1)\n",
    "# fe2 = Dense(256,activation='relu')(fe1)\n",
    "\n",
    "# # sequence feature layer\n",
    "# inputs2 = Input(shape=(max_length,))\n",
    "# se1 = Embedding(vocab_size, 256, mask_zero=True)(inputs2)\n",
    "# se2 = Dropout(0.4)(se1)\n",
    "# se3 = LSTM(256)(se2)\n",
    "\n",
    "# # decoder model\n",
    "# decoder1 = add([fe2,se3])\n",
    "# decoder2 = Dense(256, activation='relu')(decoder1)\n",
    "# outputs = Dense(vocab_size, activation='relu')(decoder2)     # chatgpt suggest the softmax activation \n",
    "\n",
    "# model = Model(inputs=[inputs1, inputs2], outputs=outputs)\n",
    "# model.compile(loss='categorical_crossentropy', optimizer='adam')\n",
    "\n",
    "# plot_model(model, show_shapes=True)\n",
    "\n",
    "# epochs = 15\n",
    "# batch_size = 64\n",
    "# steps = len(train) // batch_size\n",
    "\n",
    "# for i in range(epochs):\n",
    "#     generator = data_generator(train, mapping, features, tokenizer, max_length, vocab_size, batch_size)\n",
    "#     model.fit(generator, epochs=1, steps_per_epoch=steps, verbose=1)\n"
   ]
  }
 ],
 "metadata": {
  "kernelspec": {
   "display_name": "Python 3 (ipykernel)",
   "language": "python",
   "name": "python3"
  },
  "language_info": {
   "codemirror_mode": {
    "name": "ipython",
    "version": 3
   },
   "file_extension": ".py",
   "mimetype": "text/x-python",
   "name": "python",
   "nbconvert_exporter": "python",
   "pygments_lexer": "ipython3",
   "version": "3.10.11"
  }
 },
 "nbformat": 4,
 "nbformat_minor": 5
}
